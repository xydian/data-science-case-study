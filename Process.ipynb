{
 "cells": [
  {
   "cell_type": "code",
   "execution_count": 267,
   "metadata": {},
   "outputs": [
    {
     "name": "stdout",
     "output_type": "stream",
     "text": [
      "Reading test data... success\n",
      "   instant      dteday  season  yr  mnth  holiday  weekday  workingday  \\\n",
      "0      299  26.10.2011     4.0   0    10        0        3           1   \n",
      "1      458  02.04.2012     2.0   1     4        0        1           1   \n",
      "2      687  17.11.2012     4.0   1    11        0        6           0   \n",
      "3      346  12.12.2011     4.0   0    12        0       -1           1   \n",
      "4      291  18.10.2011     4.0   0    10        0        2           1   \n",
      "\n",
      "   weathersit     temp     atemp        hum  windspeed  leaflets  \\\n",
      "0           2  19.3667  0.472846  108.06255   0.148642       605   \n",
      "1           1  17.3565  0.427513   75.65220   0.312139       518   \n",
      "2           1  13.0000  0.326383   81.81255   0.179729       766   \n",
      "3           1   9.5333  0.270196        NaN   0.063450       739   \n",
      "4           2  21.3000  0.522721  105.25005   0.110087       463   \n",
      "\n",
      "   price reduction  casual  registered   cnt  \n",
      "0                0     404        3490  3894  \n",
      "1                0    1208        4728  5936  \n",
      "2                0    1313        4316  5629  \n",
      "3                0     143        3167  3310  \n",
      "4                0     637        4111  4748  \n",
      "\n",
      "Reading training data... success\n",
      "   instant      dteday  season  yr  mnth  holiday  weekday  workingday  \\\n",
      "0      154  03.06.2011     2.0   0     6        0        5           1   \n",
      "1      685  15.11.2012     4.0   1    11        0        4           1   \n",
      "2      368  03.01.2012     1.0   1     1        0        2           1   \n",
      "3      472  16.04.2012     2.0   1     4        1        1           0   \n",
      "4      442  17.03.2012     1.0   1     3        0       -1           0   \n",
      "\n",
      "   weathersit     temp     atemp        hum  windspeed  leaflets  \\\n",
      "0           1  24.8000  0.587133   53.12505   0.253121       991   \n",
      "1           2  12.8667  0.324492   93.06255   0.152987       601   \n",
      "2           1   6.0000  0.126275   66.18750   0.365671       549   \n",
      "3           1  26.5667  0.614925   84.25005   0.284829       740   \n",
      "4           2  20.5667  0.505046  113.37495   0.110704       773   \n",
      "\n",
      "   price reduction  casual  registered   cnt  \n",
      "0                0     898        4414  5312  \n",
      "1                0     320        5125  5445  \n",
      "2                0      89        2147  2236  \n",
      "3                0    1198        5172  6370  \n",
      "4                1    3155        4681  7836  \n",
      "[ 3894  5936  5629  4748  1450  7040  6778  5119  4332  5115  6598  2496\n",
      "  5464  6118  7580  6883  2432  5375  6227  7852  1115  4687  2056  4484\n",
      "  5302  4220  4911  6734  6234  7105  7538  1421  1817  2134  2431  5202\n",
      "  5538  1550  2485  4342  4036   683  3644  7534  7363  4401  3387  3523\n",
      "  5102  5698  3577  5668  3846  6772  1263  3422  6230  4996  5557  3389\n",
      "  5312  3570  1204  7444  3910  1712  2077  5501  3649  6569  4390  4105\n",
      "  4326  4672  7509  6784  4570  3115  1416 32472  7410  6233  1796  6241\n",
      "  1536  7591  7261  5611  3956  5117  2169  6606  6917  3351  3510  7282\n",
      "  3727  7350  7582  1693  1510  3126  5805  5740   431  7446  3228  1685\n",
      "  1708  6639  4990  5687  3907  5225  1977]\n"
     ]
    }
   ],
   "source": [
    "import pandas as pd\n",
    "\n",
    "try:\n",
    "  print(\"Reading test data...\", end='')\n",
    "  df_test_data = pd.read_csv(\"case_data/BikeRentalDaily_test.csv\", delimiter=\";\")\n",
    "  print(\" success\")\n",
    "  print(df_test_data.head())\n",
    "\n",
    "  print(\"\\nReading training data...\", end='')\n",
    "  df_train_data = pd.read_csv(\"case_data/BikeRentalDaily_train.csv\", delimiter=\";\")\n",
    "  print(\" success\")\n",
    "  print(df_train_data.head())\n",
    "except FileNotFoundError:\n",
    "  print(\"Fehler beim lesen der Datei. Falscher Pfad?\")\n",
    "\n",
    "# This is used to store the mean absolute errors together with the calculation\n",
    "# algorithm in the form [method, mean_absolute_error]. Later in this section\n",
    "# this is used to generate a visual overview of the results\n",
    "results_method_mae = []\n",
    "\n",
    "# Features that will be used for model generation\n",
    "feature_items=[\"instant\", \"season\", \"yr\", \"month\", \"holiday\", \"weekday\", \"weathersit\", \"temp\", \"atemp\", \"hum\", \"windspeed\", \"leaflets\", \"price reduction\"]\n",
    "\n",
    "# Fix data\n",
    "train_data_without_nan = df_train_data.dropna()\n",
    "x_train = train_data_without_nan.filter(items=feature_items).values\n",
    "y_train = train_data_without_nan.cnt.values\n",
    "\n",
    "# Question: why do we need to do this?\n",
    "test_data_without_nan = df_test_data.dropna()\n",
    "x_test = test_data_without_nan.filter(items=feature_items).values\n",
    "y_test = test_data_without_nan.cnt.values\n",
    "\n",
    "print(y_test)"
   ]
  },
  {
   "cell_type": "code",
   "execution_count": 268,
   "metadata": {},
   "outputs": [
    {
     "name": "stdout",
     "output_type": "stream",
     "text": [
      "Regression coefficients:  [ 2.82241690e-01  4.27829815e+02  2.49615050e+03 -3.53156444e+02\n",
      "  2.16245887e+02 -8.16875154e+02 -1.65586275e+01  7.65463765e+03\n",
      " -6.31439074e+00 -7.92200599e+02  1.24254119e+00  3.50622647e+02]\n",
      "[3431.19605608 5154.25330637 6827.94650892 3434.31616399  670.69630994\n",
      " 7735.82167601 5956.21990276 6530.12447226 6276.50429156 5482.79503338]\n"
     ]
    }
   ],
   "source": [
    "# Lineare Regression\n",
    "from sklearn import linear_model\n",
    "reg = linear_model.LinearRegression()\n",
    "\n",
    "reg.fit(x_train, y_train)\n",
    "\n",
    "print(\"Regression coefficients: \",reg.coef_)\n",
    "\n",
    "#Predict all test examples\n",
    "ypred = reg.predict(x_test)\n",
    "#Show first 10 prediction results\n",
    "print(ypred[0:10])"
   ]
  },
  {
   "cell_type": "code",
   "execution_count": 269,
   "metadata": {},
   "outputs": [
    {
     "name": "stdout",
     "output_type": "stream",
     "text": [
      "MAE: 1077.909\n"
     ]
    }
   ],
   "source": [
    "from sklearn.metrics import mean_absolute_error\n",
    "\n",
    "mae = mean_absolute_error(y_test, ypred)\n",
    "print('MAE: %.3f' % mae)\n",
    "\n",
    "results_method_mae.append([\"linear regression\", mae])"
   ]
  },
  {
   "cell_type": "code",
   "execution_count": 270,
   "metadata": {},
   "outputs": [],
   "source": [
    "# Visualize linear regression results\n",
    "import matplotlib.pyplot as plt\n",
    "\n",
    "def viz_linear():\n",
    "    plt.scatter(x_train, y_train, color='red')\n",
    "    plt.plot(x_train, reg.predict(x_train), color='blue')\n",
    "    plt.title('Truth or Bluff (Linear Regression)')\n",
    "    plt.xlabel('Position level')\n",
    "    plt.ylabel('Salary')\n",
    "    plt.show()\n",
    "    return\n",
    "# viz_linear()"
   ]
  },
  {
   "cell_type": "code",
   "execution_count": 271,
   "metadata": {},
   "outputs": [
    {
     "name": "stdout",
     "output_type": "stream",
     "text": [
      "[ 3893.99991506  5176.57233021  3238.935216   -7392.21642401\n",
      " -3566.2839483  12674.27573365 16536.87896853  5669.15891695\n",
      " 47376.81672587 10286.62550682]\n",
      "MAE: 15897.728\n"
     ]
    }
   ],
   "source": [
    "# Fitting Polynomial Regression to the dataset\n",
    "from sklearn.preprocessing import PolynomialFeatures\n",
    "from sklearn.metrics import accuracy_score\n",
    "\n",
    "poly_reg = PolynomialFeatures(degree=4)\n",
    "X_poly = poly_reg.fit_transform(x_train)\n",
    "pol_reg = linear_model.LinearRegression()\n",
    "pol_reg.fit(X_poly, y_train)\n",
    "\n",
    "ypred = pol_reg.predict(poly_reg.transform(x_test))\n",
    "\n",
    "# Question: Warum kommen hier negative werte raus? \n",
    "print(ypred[0:10])\n",
    "\n",
    "mae = mean_absolute_error(y_test, ypred)\n",
    "print('MAE: %.3f' % mae)\n",
    "\n",
    "results_method_mae.append([\"polynominal regression\", mae])"
   ]
  },
  {
   "cell_type": "code",
   "execution_count": 272,
   "metadata": {},
   "outputs": [],
   "source": [
    "# Macht es sinn ein LSTM model für time series forecasting zu verwenden?\n",
    "# spielt die zeit komponente eine rolle bei uns? "
   ]
  },
  {
   "cell_type": "code",
   "execution_count": 273,
   "metadata": {},
   "outputs": [
    {
     "name": "stdout",
     "output_type": "stream",
     "text": [
      "MAE: 1159.482\n"
     ]
    }
   ],
   "source": [
    "from sklearn.neighbors import KNeighborsRegressor\n",
    "\n",
    "#Initialize and fit KNN regression\n",
    "KNN_reg = KNeighborsRegressor(n_neighbors=20)\n",
    "KNN_reg.fit(x_train, y_train)\n",
    "\n",
    "#Predict all test examples\n",
    "ypred = KNN_reg.predict(x_test)\n",
    "\n",
    "mae = mean_absolute_error(y_test, ypred)\n",
    "print('MAE: %.3f' % mae)\n",
    "\n",
    "results_method_mae.append([\"KNN\", mae])\n"
   ]
  },
  {
   "cell_type": "code",
   "execution_count": 274,
   "metadata": {},
   "outputs": [
    {
     "data": {
      "text/html": [
       "<div>\n",
       "<style scoped>\n",
       "    .dataframe tbody tr th:only-of-type {\n",
       "        vertical-align: middle;\n",
       "    }\n",
       "\n",
       "    .dataframe tbody tr th {\n",
       "        vertical-align: top;\n",
       "    }\n",
       "\n",
       "    .dataframe thead th {\n",
       "        text-align: right;\n",
       "    }\n",
       "</style>\n",
       "<table border=\"1\" class=\"dataframe\">\n",
       "  <thead>\n",
       "    <tr style=\"text-align: right;\">\n",
       "      <th></th>\n",
       "      <th>Method</th>\n",
       "      <th>MAE</th>\n",
       "    </tr>\n",
       "  </thead>\n",
       "  <tbody>\n",
       "    <tr>\n",
       "      <th>0</th>\n",
       "      <td>linear regression</td>\n",
       "      <td>1077.908564</td>\n",
       "    </tr>\n",
       "    <tr>\n",
       "      <th>1</th>\n",
       "      <td>polynominal regression</td>\n",
       "      <td>15897.728104</td>\n",
       "    </tr>\n",
       "    <tr>\n",
       "      <th>2</th>\n",
       "      <td>KNN</td>\n",
       "      <td>1159.482174</td>\n",
       "    </tr>\n",
       "  </tbody>\n",
       "</table>\n",
       "</div>"
      ],
      "text/plain": [
       "                   Method           MAE\n",
       "0       linear regression   1077.908564\n",
       "1  polynominal regression  15897.728104\n",
       "2                     KNN   1159.482174"
      ]
     },
     "execution_count": 274,
     "metadata": {},
     "output_type": "execute_result"
    }
   ],
   "source": [
    "df_results = pd.DataFrame(results_method_mae, columns = ['Method', 'MAE'])\n",
    "\n",
    "# Show results of methods\n",
    "df_results"
   ]
  },
  {
   "cell_type": "code",
   "execution_count": 275,
   "metadata": {},
   "outputs": [
    {
     "data": {
      "image/png": "[encoded data removed]",
      "text/plain": [
       "<Figure size 432x288 with 1 Axes>"
      ]
     },
     "metadata": {
      "needs_background": "light"
     },
     "output_type": "display_data"
    }
   ],
   "source": [
    "import matplotlib.pyplot as plt\n",
    "\n",
    "# Visualize resuts of data frame \n",
    "\n",
    "fig = plt.figure()\n",
    "ax = fig.add_axes([0,0,1,1])\n",
    "\n",
    "ax.bar(df_results.Method,df_results.MAE)\n",
    "plt.show()"
   ]
  }
 ],
 "metadata": {
  "interpreter": {
   "hash": "b0fa6594d8f4cbf19f97940f81e996739fb7646882a419484c72d19e05852a7e"
  },
  "kernelspec": {
   "display_name": "Python 3.9.9 64-bit",
   "language": "python",
   "name": "python3"
  },
  "language_info": {
   "codemirror_mode": {
    "name": "ipython",
    "version": 3
   },
   "file_extension": ".py",
   "mimetype": "text/x-python",
   "name": "python",
   "nbconvert_exporter": "python",
   "pygments_lexer": "ipython3",
   "version": "3.9.9"
  },
  "orig_nbformat": 4
 },
 "nbformat": 4,
 "nbformat_minor": 2
}
