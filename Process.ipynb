{
 "cells": [
  {
   "cell_type": "code",
   "execution_count": 21,
   "metadata": {},
   "outputs": [
    {
     "name": "stdout",
     "output_type": "stream",
     "text": [
      "Reading test data... success\n",
      "   instant  season  yr  mnth  weathersit     temp     atemp        hum  \\\n",
      "0      299     4.0   0    10           2  19.3667  0.472846  108.06255   \n",
      "1      458     2.0   1     4           1  17.3565  0.427513   75.65220   \n",
      "2      687     4.0   1    11           1  13.0000  0.326383   81.81255   \n",
      "3      606     3.0   1     8           1  29.1333  0.666050   93.00000   \n",
      "4      583     3.0   1     8           1  30.7667  0.731079   97.87500   \n",
      "\n",
      "   windspeed  outlier   cnt  \n",
      "0   0.148642    False  3894  \n",
      "1   0.312139    False  5936  \n",
      "2   0.179729    False  5629  \n",
      "3   0.190925    False  7040  \n",
      "4   0.290421    False  5464  \n",
      "\n",
      "Reading training data... success\n",
      "   instant      dteday  season  yr  mnth  holiday  weekday  workingday  \\\n",
      "0      154  03.06.2011     2.0   0     6        0        5           1   \n",
      "1      685  15.11.2012     4.0   1    11        0        4           1   \n",
      "2      368  03.01.2012     1.0   1     1        0        2           1   \n",
      "3      472  16.04.2012     2.0   1     4        1        1           0   \n",
      "4      442  17.03.2012     1.0   1     3        0       -1           0   \n",
      "\n",
      "   weathersit     temp     atemp        hum  windspeed  leaflets  \\\n",
      "0           1  24.8000  0.587133   53.12505   0.253121       991   \n",
      "1           2  12.8667  0.324492   93.06255   0.152987       601   \n",
      "2           1   6.0000  0.126275   66.18750   0.365671       549   \n",
      "3           1  26.5667  0.614925   84.25005   0.284829       740   \n",
      "4           2  20.5667  0.505046  113.37495   0.110704       773   \n",
      "\n",
      "   price reduction  casual  registered   cnt  \n",
      "0                0     898        4414  5312  \n",
      "1                0     320        5125  5445  \n",
      "2                0      89        2147  2236  \n",
      "3                0    1198        5172  6370  \n",
      "4                1    3155        4681  7836  \n",
      "[3894 5936 5629 7040 5464 7580 6883 2432 5375 6227 7852 1115 4687 2056\n",
      " 4484 5302 4220 4911 6734 6234 7105 7538 1421 1817 2431 5202 5538 1550\n",
      " 2485 4342 4036  683 3644 7534 7363 4401 3387 5102 5698 5668 3846 6772\n",
      " 1263 6230 4996 5557 3389 5312 3570 1204 7444 3910 1712 2077 5501 3649\n",
      " 6569 4390 4105 4326 4672 7509 6784 4570 3115 1416 7410 6233 1796 6241\n",
      " 1536 7591 7261 5611 3956 5117 2169 6606 6917 3351 3510 7282 3727 7350\n",
      " 7582 1693 1510 3126 5740  431 7446 3228 1685 1708 6639 4990 5687 5225\n",
      " 1977]\n"
     ]
    }
   ],
   "source": [
    "import pandas as pd\n",
    "\n",
    "try:\n",
    "  print(\"Reading test data...\", end='')\n",
    "  df_test_data = pd.read_csv(\"case_data/BikeRentalDaily_test.csv\", delimiter=\";\")\n",
    "  print(\" success\")\n",
    "  print(df_test_data.head())\n",
    "\n",
    "  print(\"\\nReading training data...\", end='')\n",
    "  df_train_data = pd.read_csv(\"case_data/BikeRentalDaily_train.csv\", delimiter=\";\")\n",
    "  print(\" success\")\n",
    "  print(df_train_data.head())\n",
    "except FileNotFoundError:\n",
    "  print(\"Fehler beim lesen der Datei. Falscher Pfad?\")\n",
    "\n",
    "# This is used to store the mean absolute errors together with the calculation\n",
    "# algorithm in the form [method, mean_absolute_error]. Later in this section\n",
    "# this is used to generate a visual overview of the results\n",
    "results_method_mae = []\n",
    "\n",
    "# Features that will be used for model generation\n",
    "feature_items=[\"instant\", \"season\", \"yr\", \"mnth\", \"holiday\", \"weekday\", \"weathersit\", \"temp\", \"atemp\", \"hum\", \"windspeed\", \"leaflets\", \"price reduction\"]\n",
    "\n",
    "# Fix data\n",
    "train_data_without_nan = df_train_data.dropna()\n",
    "x_train = train_data_without_nan.filter(items=feature_items).values\n",
    "y_train = train_data_without_nan.cnt.values\n",
    "\n",
    "# Question: why do we need to do this?\n",
    "test_data_without_nan = df_test_data.dropna()\n",
    "x_test = test_data_without_nan.filter(items=feature_items).values\n",
    "y_test = test_data_without_nan.cnt.values\n",
    "\n",
    "print(y_test)"
   ]
  },
  {
   "cell_type": "code",
   "execution_count": 22,
   "metadata": {},
   "outputs": [
    {
     "name": "stdout",
     "output_type": "stream",
     "text": [
      "Regression coefficients:  [ 3.18566949e+00  4.33605041e+02  1.43225831e+03 -9.09070082e+01\n",
      " -3.46868441e+02  2.16426861e+02 -8.12964412e+02 -1.73078685e+01\n",
      "  7.68879010e+03 -6.39160185e+00 -7.96617822e+02  1.24566695e+00\n",
      "  3.53239330e+02]\n"
     ]
    },
    {
     "ename": "ValueError",
     "evalue": "X has 9 features, but LinearRegression is expecting 13 features as input.",
     "output_type": "error",
     "traceback": [
      "\u001b[0;31m---------------------------------------------------------------------------\u001b[0m",
      "\u001b[0;31mValueError\u001b[0m                                Traceback (most recent call last)",
      "\u001b[0;32m/var/folders/hw/djqz0cbd507b5pxvx63rrmjh0000gn/T/ipykernel_20537/2942727897.py\u001b[0m in \u001b[0;36m<module>\u001b[0;34m\u001b[0m\n\u001b[1;32m      8\u001b[0m \u001b[0;34m\u001b[0m\u001b[0m\n\u001b[1;32m      9\u001b[0m \u001b[0;31m#Predict all test examples\u001b[0m\u001b[0;34m\u001b[0m\u001b[0;34m\u001b[0m\u001b[0m\n\u001b[0;32m---> 10\u001b[0;31m \u001b[0mypred\u001b[0m \u001b[0;34m=\u001b[0m \u001b[0mreg\u001b[0m\u001b[0;34m.\u001b[0m\u001b[0mpredict\u001b[0m\u001b[0;34m(\u001b[0m\u001b[0mx_test\u001b[0m\u001b[0;34m)\u001b[0m\u001b[0;34m\u001b[0m\u001b[0;34m\u001b[0m\u001b[0m\n\u001b[0m\u001b[1;32m     11\u001b[0m \u001b[0;31m#Show first 10 prediction results\u001b[0m\u001b[0;34m\u001b[0m\u001b[0;34m\u001b[0m\u001b[0m\n\u001b[1;32m     12\u001b[0m \u001b[0mprint\u001b[0m\u001b[0;34m(\u001b[0m\u001b[0mypred\u001b[0m\u001b[0;34m[\u001b[0m\u001b[0;36m0\u001b[0m\u001b[0;34m:\u001b[0m\u001b[0;36m10\u001b[0m\u001b[0;34m]\u001b[0m\u001b[0;34m)\u001b[0m\u001b[0;34m\u001b[0m\u001b[0;34m\u001b[0m\u001b[0m\n",
      "\u001b[0;32m/opt/homebrew/lib/python3.9/site-packages/sklearn/linear_model/_base.py\u001b[0m in \u001b[0;36mpredict\u001b[0;34m(self, X)\u001b[0m\n\u001b[1;32m    360\u001b[0m             \u001b[0mReturns\u001b[0m \u001b[0mpredicted\u001b[0m \u001b[0mvalues\u001b[0m\u001b[0;34m.\u001b[0m\u001b[0;34m\u001b[0m\u001b[0;34m\u001b[0m\u001b[0m\n\u001b[1;32m    361\u001b[0m         \"\"\"\n\u001b[0;32m--> 362\u001b[0;31m         \u001b[0;32mreturn\u001b[0m \u001b[0mself\u001b[0m\u001b[0;34m.\u001b[0m\u001b[0m_decision_function\u001b[0m\u001b[0;34m(\u001b[0m\u001b[0mX\u001b[0m\u001b[0;34m)\u001b[0m\u001b[0;34m\u001b[0m\u001b[0;34m\u001b[0m\u001b[0m\n\u001b[0m\u001b[1;32m    363\u001b[0m \u001b[0;34m\u001b[0m\u001b[0m\n\u001b[1;32m    364\u001b[0m     \u001b[0m_preprocess_data\u001b[0m \u001b[0;34m=\u001b[0m \u001b[0mstaticmethod\u001b[0m\u001b[0;34m(\u001b[0m\u001b[0m_preprocess_data\u001b[0m\u001b[0;34m)\u001b[0m\u001b[0;34m\u001b[0m\u001b[0;34m\u001b[0m\u001b[0m\n",
      "\u001b[0;32m/opt/homebrew/lib/python3.9/site-packages/sklearn/linear_model/_base.py\u001b[0m in \u001b[0;36m_decision_function\u001b[0;34m(self, X)\u001b[0m\n\u001b[1;32m    343\u001b[0m         \u001b[0mcheck_is_fitted\u001b[0m\u001b[0;34m(\u001b[0m\u001b[0mself\u001b[0m\u001b[0;34m)\u001b[0m\u001b[0;34m\u001b[0m\u001b[0;34m\u001b[0m\u001b[0m\n\u001b[1;32m    344\u001b[0m \u001b[0;34m\u001b[0m\u001b[0m\n\u001b[0;32m--> 345\u001b[0;31m         \u001b[0mX\u001b[0m \u001b[0;34m=\u001b[0m \u001b[0mself\u001b[0m\u001b[0;34m.\u001b[0m\u001b[0m_validate_data\u001b[0m\u001b[0;34m(\u001b[0m\u001b[0mX\u001b[0m\u001b[0;34m,\u001b[0m \u001b[0maccept_sparse\u001b[0m\u001b[0;34m=\u001b[0m\u001b[0;34m[\u001b[0m\u001b[0;34m\"csr\"\u001b[0m\u001b[0;34m,\u001b[0m \u001b[0;34m\"csc\"\u001b[0m\u001b[0;34m,\u001b[0m \u001b[0;34m\"coo\"\u001b[0m\u001b[0;34m]\u001b[0m\u001b[0;34m,\u001b[0m \u001b[0mreset\u001b[0m\u001b[0;34m=\u001b[0m\u001b[0;32mFalse\u001b[0m\u001b[0;34m)\u001b[0m\u001b[0;34m\u001b[0m\u001b[0;34m\u001b[0m\u001b[0m\n\u001b[0m\u001b[1;32m    346\u001b[0m         \u001b[0;32mreturn\u001b[0m \u001b[0msafe_sparse_dot\u001b[0m\u001b[0;34m(\u001b[0m\u001b[0mX\u001b[0m\u001b[0;34m,\u001b[0m \u001b[0mself\u001b[0m\u001b[0;34m.\u001b[0m\u001b[0mcoef_\u001b[0m\u001b[0;34m.\u001b[0m\u001b[0mT\u001b[0m\u001b[0;34m,\u001b[0m \u001b[0mdense_output\u001b[0m\u001b[0;34m=\u001b[0m\u001b[0;32mTrue\u001b[0m\u001b[0;34m)\u001b[0m \u001b[0;34m+\u001b[0m \u001b[0mself\u001b[0m\u001b[0;34m.\u001b[0m\u001b[0mintercept_\u001b[0m\u001b[0;34m\u001b[0m\u001b[0;34m\u001b[0m\u001b[0m\n\u001b[1;32m    347\u001b[0m \u001b[0;34m\u001b[0m\u001b[0m\n",
      "\u001b[0;32m/opt/homebrew/lib/python3.9/site-packages/sklearn/base.py\u001b[0m in \u001b[0;36m_validate_data\u001b[0;34m(self, X, y, reset, validate_separately, **check_params)\u001b[0m\n\u001b[1;32m    583\u001b[0m \u001b[0;34m\u001b[0m\u001b[0m\n\u001b[1;32m    584\u001b[0m         \u001b[0;32mif\u001b[0m \u001b[0;32mnot\u001b[0m \u001b[0mno_val_X\u001b[0m \u001b[0;32mand\u001b[0m \u001b[0mcheck_params\u001b[0m\u001b[0;34m.\u001b[0m\u001b[0mget\u001b[0m\u001b[0;34m(\u001b[0m\u001b[0;34m\"ensure_2d\"\u001b[0m\u001b[0;34m,\u001b[0m \u001b[0;32mTrue\u001b[0m\u001b[0;34m)\u001b[0m\u001b[0;34m:\u001b[0m\u001b[0;34m\u001b[0m\u001b[0;34m\u001b[0m\u001b[0m\n\u001b[0;32m--> 585\u001b[0;31m             \u001b[0mself\u001b[0m\u001b[0;34m.\u001b[0m\u001b[0m_check_n_features\u001b[0m\u001b[0;34m(\u001b[0m\u001b[0mX\u001b[0m\u001b[0;34m,\u001b[0m \u001b[0mreset\u001b[0m\u001b[0;34m=\u001b[0m\u001b[0mreset\u001b[0m\u001b[0;34m)\u001b[0m\u001b[0;34m\u001b[0m\u001b[0;34m\u001b[0m\u001b[0m\n\u001b[0m\u001b[1;32m    586\u001b[0m \u001b[0;34m\u001b[0m\u001b[0m\n\u001b[1;32m    587\u001b[0m         \u001b[0;32mreturn\u001b[0m \u001b[0mout\u001b[0m\u001b[0;34m\u001b[0m\u001b[0;34m\u001b[0m\u001b[0m\n",
      "\u001b[0;32m/opt/homebrew/lib/python3.9/site-packages/sklearn/base.py\u001b[0m in \u001b[0;36m_check_n_features\u001b[0;34m(self, X, reset)\u001b[0m\n\u001b[1;32m    398\u001b[0m \u001b[0;34m\u001b[0m\u001b[0m\n\u001b[1;32m    399\u001b[0m         \u001b[0;32mif\u001b[0m \u001b[0mn_features\u001b[0m \u001b[0;34m!=\u001b[0m \u001b[0mself\u001b[0m\u001b[0;34m.\u001b[0m\u001b[0mn_features_in_\u001b[0m\u001b[0;34m:\u001b[0m\u001b[0;34m\u001b[0m\u001b[0;34m\u001b[0m\u001b[0m\n\u001b[0;32m--> 400\u001b[0;31m             raise ValueError(\n\u001b[0m\u001b[1;32m    401\u001b[0m                 \u001b[0;34mf\"X has {n_features} features, but {self.__class__.__name__} \"\u001b[0m\u001b[0;34m\u001b[0m\u001b[0;34m\u001b[0m\u001b[0m\n\u001b[1;32m    402\u001b[0m                 \u001b[0;34mf\"is expecting {self.n_features_in_} features as input.\"\u001b[0m\u001b[0;34m\u001b[0m\u001b[0;34m\u001b[0m\u001b[0m\n",
      "\u001b[0;31mValueError\u001b[0m: X has 9 features, but LinearRegression is expecting 13 features as input."
     ]
    }
   ],
   "source": [
    "# Lineare Regression\n",
    "from sklearn import linear_model\n",
    "reg = linear_model.LinearRegression()\n",
    "\n",
    "reg.fit(x_train, y_train)\n",
    "\n",
    "print(\"Regression coefficients: \",reg.coef_)\n",
    "\n",
    "#Predict all test examples\n",
    "ypred = reg.predict(x_test)\n",
    "#Show first 10 prediction results\n",
    "print(ypred[0:10])"
   ]
  },
  {
   "cell_type": "code",
   "execution_count": null,
   "metadata": {},
   "outputs": [
    {
     "name": "stdout",
     "output_type": "stream",
     "text": [
      "MAE: 1075.264\n"
     ]
    }
   ],
   "source": [
    "from sklearn.metrics import mean_absolute_error\n",
    "\n",
    "mae = mean_absolute_error(y_test, ypred)\n",
    "print('MAE: %.3f' % mae)\n",
    "\n",
    "results_method_mae.append([\"linear regression\", mae])"
   ]
  },
  {
   "cell_type": "code",
   "execution_count": null,
   "metadata": {},
   "outputs": [],
   "source": [
    "# Visualize linear regression results\n",
    "import matplotlib.pyplot as plt\n",
    "\n",
    "def viz_linear():\n",
    "    plt.scatter(x_train, y_train, color='red')\n",
    "    plt.plot(x_train, reg.predict(x_train), color='blue')\n",
    "    plt.title('Truth or Bluff (Linear Regression)')\n",
    "    plt.xlabel('Position level')\n",
    "    plt.ylabel('Salary')\n",
    "    plt.show()\n",
    "    return\n",
    "# viz_linear()"
   ]
  },
  {
   "cell_type": "code",
   "execution_count": null,
   "metadata": {},
   "outputs": [
    {
     "name": "stdout",
     "output_type": "stream",
     "text": [
      "[ 3894.00001202  6767.21287411   -16.43907186  2343.69268943\n",
      " -6592.2520509   2054.46867707  9451.43694578 -3914.12187939\n",
      " 10491.69890514  -981.07668026]\n",
      "MAE: 16680.367\n"
     ]
    }
   ],
   "source": [
    "# Fitting Polynomial Regression to the dataset\n",
    "from sklearn.preprocessing import PolynomialFeatures\n",
    "from sklearn.metrics import accuracy_score\n",
    "\n",
    "poly_reg = PolynomialFeatures(degree=4)\n",
    "X_poly = poly_reg.fit_transform(x_train)\n",
    "pol_reg = linear_model.LinearRegression()\n",
    "pol_reg.fit(X_poly, y_train)\n",
    "\n",
    "ypred = pol_reg.predict(poly_reg.transform(x_test))\n",
    "\n",
    "# Question: Warum kommen hier negative werte raus? \n",
    "print(ypred[0:10])\n",
    "\n",
    "mae = mean_absolute_error(y_test, ypred)\n",
    "print('MAE: %.3f' % mae)\n",
    "\n",
    "results_method_mae.append([\"polynominal regression\", mae])"
   ]
  },
  {
   "cell_type": "code",
   "execution_count": null,
   "metadata": {},
   "outputs": [],
   "source": [
    "# Macht es sinn ein LSTM model für time series forecasting zu verwenden?\n",
    "# spielt die zeit komponente eine rolle bei uns? "
   ]
  },
  {
   "cell_type": "code",
   "execution_count": null,
   "metadata": {},
   "outputs": [
    {
     "name": "stdout",
     "output_type": "stream",
     "text": [
      "MAE: 1158.835\n"
     ]
    }
   ],
   "source": [
    "from sklearn.neighbors import KNeighborsRegressor\n",
    "\n",
    "#Initialize and fit KNN regression\n",
    "KNN_reg = KNeighborsRegressor(n_neighbors=20)\n",
    "KNN_reg.fit(x_train, y_train)\n",
    "\n",
    "#Predict all test examples\n",
    "ypred = KNN_reg.predict(x_test)\n",
    "\n",
    "mae = mean_absolute_error(y_test, ypred)\n",
    "print('MAE: %.3f' % mae)\n",
    "\n",
    "results_method_mae.append([\"KNN\", mae])\n"
   ]
  },
  {
   "cell_type": "code",
   "execution_count": null,
   "metadata": {},
   "outputs": [
    {
     "name": "stdout",
     "output_type": "stream",
     "text": [
      "MAE: 1071.904\n"
     ]
    }
   ],
   "source": [
    "from sklearn.linear_model import Lasso\n",
    "\n",
    "lasso_reg = Lasso(alpha=1)\n",
    "lasso_reg.fit(x_train, y_train)\n",
    "\n",
    "Lasso(alpha=1)\n",
    "\n",
    "ypred = lasso_reg.predict(x_test)\n",
    "\n",
    "mae = mean_absolute_error(y_test, ypred)\n",
    "print('MAE: %.3f' % mae)\n",
    "\n",
    "results_method_mae.append([\"Lasso\", mae])"
   ]
  },
  {
   "cell_type": "code",
   "execution_count": null,
   "metadata": {},
   "outputs": [
    {
     "data": {
      "text/html": [
       "<div>\n",
       "<style scoped>\n",
       "    .dataframe tbody tr th:only-of-type {\n",
       "        vertical-align: middle;\n",
       "    }\n",
       "\n",
       "    .dataframe tbody tr th {\n",
       "        vertical-align: top;\n",
       "    }\n",
       "\n",
       "    .dataframe thead th {\n",
       "        text-align: right;\n",
       "    }\n",
       "</style>\n",
       "<table border=\"1\" class=\"dataframe\">\n",
       "  <thead>\n",
       "    <tr style=\"text-align: right;\">\n",
       "      <th></th>\n",
       "      <th>Method</th>\n",
       "      <th>MAE</th>\n",
       "    </tr>\n",
       "  </thead>\n",
       "  <tbody>\n",
       "    <tr>\n",
       "      <th>0</th>\n",
       "      <td>linear regression</td>\n",
       "      <td>1075.264492</td>\n",
       "    </tr>\n",
       "    <tr>\n",
       "      <th>1</th>\n",
       "      <td>polynominal regression</td>\n",
       "      <td>16680.366756</td>\n",
       "    </tr>\n",
       "    <tr>\n",
       "      <th>2</th>\n",
       "      <td>KNN</td>\n",
       "      <td>1158.835217</td>\n",
       "    </tr>\n",
       "    <tr>\n",
       "      <th>3</th>\n",
       "      <td>Lasso</td>\n",
       "      <td>1071.903613</td>\n",
       "    </tr>\n",
       "  </tbody>\n",
       "</table>\n",
       "</div>"
      ],
      "text/plain": [
       "                   Method           MAE\n",
       "0       linear regression   1075.264492\n",
       "1  polynominal regression  16680.366756\n",
       "2                     KNN   1158.835217\n",
       "3                   Lasso   1071.903613"
      ]
     },
     "execution_count": 19,
     "metadata": {},
     "output_type": "execute_result"
    }
   ],
   "source": [
    "df_results = pd.DataFrame(results_method_mae, columns = ['Method', 'MAE'])\n",
    "\n",
    "# Show results of methods\n",
    "df_results"
   ]
  },
  {
   "cell_type": "code",
   "execution_count": null,
   "metadata": {},
   "outputs": [
    {
     "data": {
      "image/png": "[encoded data removed]",
      "text/plain": [
       "<Figure size 432x288 with 1 Axes>"
      ]
     },
     "metadata": {
      "needs_background": "light"
     },
     "output_type": "display_data"
    }
   ],
   "source": [
    "import matplotlib.pyplot as plt\n",
    "\n",
    "# Visualize resuts of data frame \n",
    "\n",
    "fig = plt.figure()\n",
    "ax = fig.add_axes([0,0,1,1])\n",
    "\n",
    "ax.bar(df_results.Method,df_results.MAE)\n",
    "plt.show()"
   ]
  }
 ],
 "metadata": {
  "interpreter": {
   "hash": "b0fa6594d8f4cbf19f97940f81e996739fb7646882a419484c72d19e05852a7e"
  },
  "kernelspec": {
   "display_name": "Python 3.9.9 64-bit",
   "language": "python",
   "name": "python3"
  },
  "language_info": {
   "codemirror_mode": {
    "name": "ipython",
    "version": 3
   },
   "file_extension": ".py",
   "mimetype": "text/x-python",
   "name": "python",
   "nbconvert_exporter": "python",
   "pygments_lexer": "ipython3",
   "version": "3.9.9"
  },
  "orig_nbformat": 4
 },
 "nbformat": 4,
 "nbformat_minor": 2
}
