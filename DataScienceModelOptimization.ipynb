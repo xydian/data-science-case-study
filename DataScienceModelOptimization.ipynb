{
 "cells": [
  {
   "cell_type": "code",
   "execution_count": 43,
   "metadata": {
    "collapsed": true
   },
   "outputs": [
    {
     "data": {
      "text/plain": "   instant      dteday  season  yr  mnth  holiday  weekday  workingday  \\\n0      299  26.10.2011     4.0   0    10        0        3           1   \n1      458  02.04.2012     2.0   1     4        0        1           1   \n2      687  17.11.2012     4.0   1    11        0        6           0   \n4      291  18.10.2011     4.0   0    10        0        2           1   \n5       53  22.02.2011     1.0   0     2        0        2           1   \n\n   weathersit     temp     atemp        hum  windspeed  leaflets  \\\n0           2  19.3667  0.472846  108.06255   0.148642       605   \n1           1  17.3565  0.427513   75.65220   0.312139       518   \n2           1  13.0000  0.326383   81.81255   0.179729       766   \n4           2  21.3000  0.522721  105.25005   0.110087       463   \n5           1   7.2889  0.186033   86.66670   0.195683       516   \n\n   price reduction  casual  registered   cnt  \n0                0     404        3490  3894  \n1                0    1208        4728  5936  \n2                0    1313        4316  5629  \n4                0     637        4111  4748  \n5                0      74        1376  1450  ",
      "text/html": "<div>\n<style scoped>\n    .dataframe tbody tr th:only-of-type {\n        vertical-align: middle;\n    }\n\n    .dataframe tbody tr th {\n        vertical-align: top;\n    }\n\n    .dataframe thead th {\n        text-align: right;\n    }\n</style>\n<table border=\"1\" class=\"dataframe\">\n  <thead>\n    <tr style=\"text-align: right;\">\n      <th></th>\n      <th>instant</th>\n      <th>dteday</th>\n      <th>season</th>\n      <th>yr</th>\n      <th>mnth</th>\n      <th>holiday</th>\n      <th>weekday</th>\n      <th>workingday</th>\n      <th>weathersit</th>\n      <th>temp</th>\n      <th>atemp</th>\n      <th>hum</th>\n      <th>windspeed</th>\n      <th>leaflets</th>\n      <th>price reduction</th>\n      <th>casual</th>\n      <th>registered</th>\n      <th>cnt</th>\n    </tr>\n  </thead>\n  <tbody>\n    <tr>\n      <th>0</th>\n      <td>299</td>\n      <td>26.10.2011</td>\n      <td>4.0</td>\n      <td>0</td>\n      <td>10</td>\n      <td>0</td>\n      <td>3</td>\n      <td>1</td>\n      <td>2</td>\n      <td>19.3667</td>\n      <td>0.472846</td>\n      <td>108.06255</td>\n      <td>0.148642</td>\n      <td>605</td>\n      <td>0</td>\n      <td>404</td>\n      <td>3490</td>\n      <td>3894</td>\n    </tr>\n    <tr>\n      <th>1</th>\n      <td>458</td>\n      <td>02.04.2012</td>\n      <td>2.0</td>\n      <td>1</td>\n      <td>4</td>\n      <td>0</td>\n      <td>1</td>\n      <td>1</td>\n      <td>1</td>\n      <td>17.3565</td>\n      <td>0.427513</td>\n      <td>75.65220</td>\n      <td>0.312139</td>\n      <td>518</td>\n      <td>0</td>\n      <td>1208</td>\n      <td>4728</td>\n      <td>5936</td>\n    </tr>\n    <tr>\n      <th>2</th>\n      <td>687</td>\n      <td>17.11.2012</td>\n      <td>4.0</td>\n      <td>1</td>\n      <td>11</td>\n      <td>0</td>\n      <td>6</td>\n      <td>0</td>\n      <td>1</td>\n      <td>13.0000</td>\n      <td>0.326383</td>\n      <td>81.81255</td>\n      <td>0.179729</td>\n      <td>766</td>\n      <td>0</td>\n      <td>1313</td>\n      <td>4316</td>\n      <td>5629</td>\n    </tr>\n    <tr>\n      <th>4</th>\n      <td>291</td>\n      <td>18.10.2011</td>\n      <td>4.0</td>\n      <td>0</td>\n      <td>10</td>\n      <td>0</td>\n      <td>2</td>\n      <td>1</td>\n      <td>2</td>\n      <td>21.3000</td>\n      <td>0.522721</td>\n      <td>105.25005</td>\n      <td>0.110087</td>\n      <td>463</td>\n      <td>0</td>\n      <td>637</td>\n      <td>4111</td>\n      <td>4748</td>\n    </tr>\n    <tr>\n      <th>5</th>\n      <td>53</td>\n      <td>22.02.2011</td>\n      <td>1.0</td>\n      <td>0</td>\n      <td>2</td>\n      <td>0</td>\n      <td>2</td>\n      <td>1</td>\n      <td>1</td>\n      <td>7.2889</td>\n      <td>0.186033</td>\n      <td>86.66670</td>\n      <td>0.195683</td>\n      <td>516</td>\n      <td>0</td>\n      <td>74</td>\n      <td>1376</td>\n      <td>1450</td>\n    </tr>\n  </tbody>\n</table>\n</div>"
     },
     "execution_count": 43,
     "metadata": {},
     "output_type": "execute_result"
    }
   ],
   "source": [
    "# Einlesen der Daten sowie die auswahl der Features\n",
    "\n",
    "import pandas as pd\n",
    "from sklearn.linear_model import HuberRegressor\n",
    "from sklearn.linear_model import LinearRegression\n",
    "from sklearn.pipeline import make_pipeline\n",
    "from sklearn.preprocessing import PolynomialFeatures\n",
    "from sklearn.preprocessing import StandardScaler\n",
    "from sklearn.metrics import mean_absolute_error\n",
    "from sklearn.pipeline import Pipeline\n",
    "from sklearn.svm import SVC\n",
    "from sklearn.neighbors import KNeighborsRegressor\n",
    "\n",
    "\n",
    "test_dir=\"./case_data/BikeRentalDaily_test.csv\"\n",
    "train_dir=\"./case_data/training_data_preprocessed_v3.1_baseline.csv\"\n",
    "\n",
    "\n",
    "test_contents = pd.read_csv(test_dir, sep=';')\n",
    "test_contents = test_contents.dropna()\n",
    "\n",
    "\n",
    "train_contents = pd.read_csv(train_dir, sep=';')\n",
    "train_contents = train_contents.dropna()\n",
    "\n",
    "# Für die speicherung des mae der verschiedenen\n",
    "results_method_mae = []\n",
    "\n",
    "\n",
    "# feature_cols = [\"instant\",\"season\",\"yr\",\"mnth\",\"weathersit\",\"temp\",\"atemp\",\"hum\",\"windspeed\"]\n",
    "feature_cols = [\"instant\",\"season\",\"yr\",\"temp\",\"atemp\"]\n",
    "\n",
    "X = train_contents.loc[:, feature_cols]\n",
    "y = train_contents.cnt\n",
    "\n",
    "X_test = test_contents.loc[:, feature_cols]\n",
    "y_test = test_contents.cnt\n",
    "\n",
    "test_contents.head()\n"
   ]
  },
  {
   "cell_type": "code",
   "execution_count": 44,
   "metadata": {
    "pycharm": {
     "name": "#%% Linear Regression 68%\n"
    }
   },
   "outputs": [
    {
     "name": "stdout",
     "output_type": "stream",
     "text": [
      "MAE: 937.292\n",
      "linreg score: 0.3541525051411326\n"
     ]
    }
   ],
   "source": [
    "# Durchführung der Linearen Regression\n",
    "\n",
    "linreg = LinearRegression()\n",
    "\n",
    "linreg.fit(X,y)\n",
    "\n",
    "pred = linreg.predict(X_test)\n",
    "\n",
    "mae = mean_absolute_error(y_test, pred)\n",
    "print('MAE: %.3f' % mae)\n",
    "\n",
    "score = linreg.score(X_test, y_test)\n",
    "\n",
    "print(f\"linreg score: {score}\")\n",
    "\n",
    "results_method_mae.append([\"linear regression\", mae])"
   ]
  },
  {
   "cell_type": "code",
   "execution_count": 45,
   "metadata": {
    "pycharm": {
     "name": "#%% Huber Regression 62%\n"
    }
   },
   "outputs": [
    {
     "name": "stdout",
     "output_type": "stream",
     "text": [
      "MAE: 922.387\n",
      "Huber Regressor score: 0.3593971139582831\n"
     ]
    }
   ],
   "source": [
    "# Durchführung der Huber Regression\n",
    "\n",
    "pipe = make_pipeline(StandardScaler(), HuberRegressor())\n",
    "\n",
    "pipe.fit(X,y)\n",
    "\n",
    "pred = pipe.predict(X_test)\n",
    "\n",
    "mae = mean_absolute_error(y_test, pred)\n",
    "print('MAE: %.3f' % mae)\n",
    "score = pipe.score(X_test, y_test)\n",
    "\n",
    "print(f\"Huber Regressor score: {score}\")\n",
    "\n",
    "results_method_mae.append([\"Huber Regressor\", mae])"
   ]
  },
  {
   "cell_type": "code",
   "execution_count": 46,
   "metadata": {
    "pycharm": {
     "name": "#%% Polynomial Regression 75%\n"
    }
   },
   "outputs": [
    {
     "name": "stdout",
     "output_type": "stream",
     "text": [
      "Polynomiale Regression mit einem degree von 4:\n",
      "MAE: 866.562\n",
      "Score: 0.43145127641286973\n",
      "\n",
      "Polynomiale Regression mit einem degree von 3:\n",
      "MAE: 866.724\n",
      "Score: 0.42852954862628045\n"
     ]
    }
   ],
   "source": [
    "# Durchführung der polynomialen Regression\n",
    "\n",
    "degree=4\n",
    "\n",
    "polyreg=make_pipeline(PolynomialFeatures(degree),LinearRegression())\n",
    "polyreg.fit(X,y)\n",
    "\n",
    "\n",
    "pred = polyreg.predict(X_test)\n",
    "\n",
    "mae = mean_absolute_error(y_test, pred)\n",
    "\n",
    "score = polyreg.score(X_test, y_test)\n",
    "print(f\"Polynomiale Regression mit einem degree von {degree}:\")\n",
    "print('MAE: %.3f' % mae)\n",
    "print(f\"Score: {score}\\n\")\n",
    "\n",
    "results_method_mae.append([f\"polynominal regression degree={degree}\", mae])\n",
    "\n",
    "\n",
    "\n",
    "# Durchführung der polynomialen Regression mit anderem degree Wert zu demonstarationszwecken\n",
    "\n",
    "degree=3\n",
    "\n",
    "polyreg=make_pipeline(PolynomialFeatures(degree),LinearRegression())\n",
    "polyreg.fit(X,y)\n",
    "\n",
    "pred = polyreg.predict(X_test)\n",
    "\n",
    "mae = mean_absolute_error(y_test, pred)\n",
    "\n",
    "score = polyreg.score(X_test, y_test)\n",
    "print(f\"Polynomiale Regression mit einem degree von {degree}:\")\n",
    "print('MAE: %.3f' % mae)\n",
    "print(f\"Score: {score}\")\n",
    "\n",
    "results_method_mae.append([f\"polynominal regression degree={degree}\", mae])"
   ]
  },
  {
   "cell_type": "code",
   "execution_count": 47,
   "metadata": {
    "pycharm": {
     "name": "#%%\n"
    }
   },
   "outputs": [
    {
     "name": "stdout",
     "output_type": "stream",
     "text": [
      "KNN mit 20 neighbors:\n",
      "MAE: 927.303\n",
      "Score: 0.381431380584374\n",
      "\n",
      "KNN mit 3 neighbors:\n",
      "MAE: 842.238\n",
      "Score: 0.37401807084260197\n"
     ]
    }
   ],
   "source": [
    "# Durchführung des KNN\n",
    "\n",
    "neighbors = 20\n",
    "\n",
    "#Initialize and fit KNN regression\n",
    "KNN_reg = KNeighborsRegressor(n_neighbors=neighbors)\n",
    "KNN_reg.fit(X, y)\n",
    "\n",
    "#Predict all test examples\n",
    "ypred = KNN_reg.predict(X_test)\n",
    "\n",
    "mae = mean_absolute_error(y_test, ypred)\n",
    "score = KNN_reg.score(X_test, y_test)\n",
    "\n",
    "print(f\"KNN mit {neighbors} neighbors:\")\n",
    "print('MAE: %.3f' % mae)\n",
    "print(f\"Score: {score}\\n\")\n",
    "\n",
    "results_method_mae.append([f\"KNN n_neighbors={neighbors}\", mae])\n",
    "\n",
    "\n",
    "# Durchführung des KNN mit anderer anzahl neighbors zu demonstarationszwecken\n",
    "\n",
    "neighbors = 3\n",
    "#Initialize and fit KNN regression\n",
    "KNN_reg = KNeighborsRegressor(n_neighbors=neighbors)\n",
    "KNN_reg.fit(X, y)\n",
    "\n",
    "#Predict all test examples\n",
    "ypred = KNN_reg.predict(X_test)\n",
    "\n",
    "mae = mean_absolute_error(y_test, ypred)\n",
    "score = KNN_reg.score(X_test, y_test)\n",
    "\n",
    "print(f\"KNN mit {neighbors} neighbors:\")\n",
    "print('MAE: %.3f' % mae)\n",
    "print(f\"Score: {score}\")\n",
    "\n",
    "\n",
    "results_method_mae.append([f\"KNN n_neighbors={neighbors}\", mae])"
   ]
  },
  {
   "cell_type": "code",
   "execution_count": 48,
   "metadata": {
    "pycharm": {
     "name": "#%%\n"
    }
   },
   "outputs": [
    {
     "name": "stdout",
     "output_type": "stream",
     "text": [
      "SVM mit dem kernel poly einem degree von 3:\n",
      "MAE: 1008.817\n",
      "Score: 0.0\n",
      "\n",
      "SVM mit dem kernel poly einem degree von 1:\n",
      "MAE: 998.939\n",
      "Score: 0.0\n"
     ]
    }
   ],
   "source": [
    "# Durchführung der Support Vector Machine\n",
    "\n",
    "kernel= 'poly'\n",
    "degree = 3\n",
    "clf = make_pipeline(StandardScaler(), SVC(gamma='auto', kernel=kernel, degree=degree))\n",
    "clf.fit(X, y)\n",
    "Pipeline(steps=[('standardscaler', StandardScaler()),\n",
    "                ('svc', SVC(gamma='auto'))])\n",
    "\n",
    "ypred = clf.predict(X_test)\n",
    "mae = mean_absolute_error(y_test, ypred)\n",
    "\n",
    "score = clf.score(X_test, y_test)\n",
    "\n",
    "results_method_mae.append([f\"SVM kernel={kernel} degree={degree}\", mae])\n",
    "\n",
    "print(f\"SVM mit dem kernel {kernel} einem degree von {degree}:\")\n",
    "print('MAE: %.3f' % mae)\n",
    "print(f\"Score: {score}\\n\")\n",
    "\n",
    "\n",
    "# Durchführung der Support Vector Machine mit anderem degree Wert zu demonstarationszwecken\n",
    "\n",
    "kernel= 'poly'\n",
    "degree = 1\n",
    "clf = make_pipeline(StandardScaler(), SVC(gamma='auto', kernel=kernel,  degree=degree))\n",
    "clf.fit(X, y)\n",
    "Pipeline(steps=[('standardscaler', StandardScaler()),\n",
    "                ('svc', SVC(gamma='auto'))])\n",
    "\n",
    "ypred = clf.predict(X_test)\n",
    "mae = mean_absolute_error(y_test, ypred)\n",
    "\n",
    "score = clf.score(X_test, y_test)\n",
    "\n",
    "results_method_mae.append([f\"SVM kernel={kernel} degree={degree}\", mae])\n",
    "\n",
    "print(f\"SVM mit dem kernel {kernel} einem degree von {degree}:\")\n",
    "print('MAE: %.3f' % mae)\n",
    "print(f\"Score: {score}\")\n"
   ]
  },
  {
   "cell_type": "code",
   "execution_count": 49,
   "metadata": {
    "pycharm": {
     "name": "#%%\n"
    }
   },
   "outputs": [
    {
     "data": {
      "text/plain": "                            Method          MAE\n0                linear regression   937.291909\n1                  Huber Regressor   922.387352\n2  polynominal regression degree=4   866.562276\n3  polynominal regression degree=3   866.723658\n4               KNN n_neighbors=20   927.302609\n5                KNN n_neighbors=3   842.237681\n6         SVM kernel=poly degree=3  1008.817391\n7         SVM kernel=poly degree=1   998.939130",
      "text/html": "<div>\n<style scoped>\n    .dataframe tbody tr th:only-of-type {\n        vertical-align: middle;\n    }\n\n    .dataframe tbody tr th {\n        vertical-align: top;\n    }\n\n    .dataframe thead th {\n        text-align: right;\n    }\n</style>\n<table border=\"1\" class=\"dataframe\">\n  <thead>\n    <tr style=\"text-align: right;\">\n      <th></th>\n      <th>Method</th>\n      <th>MAE</th>\n    </tr>\n  </thead>\n  <tbody>\n    <tr>\n      <th>0</th>\n      <td>linear regression</td>\n      <td>937.291909</td>\n    </tr>\n    <tr>\n      <th>1</th>\n      <td>Huber Regressor</td>\n      <td>922.387352</td>\n    </tr>\n    <tr>\n      <th>2</th>\n      <td>polynominal regression degree=4</td>\n      <td>866.562276</td>\n    </tr>\n    <tr>\n      <th>3</th>\n      <td>polynominal regression degree=3</td>\n      <td>866.723658</td>\n    </tr>\n    <tr>\n      <th>4</th>\n      <td>KNN n_neighbors=20</td>\n      <td>927.302609</td>\n    </tr>\n    <tr>\n      <th>5</th>\n      <td>KNN n_neighbors=3</td>\n      <td>842.237681</td>\n    </tr>\n    <tr>\n      <th>6</th>\n      <td>SVM kernel=poly degree=3</td>\n      <td>1008.817391</td>\n    </tr>\n    <tr>\n      <th>7</th>\n      <td>SVM kernel=poly degree=1</td>\n      <td>998.939130</td>\n    </tr>\n  </tbody>\n</table>\n</div>"
     },
     "execution_count": 49,
     "metadata": {},
     "output_type": "execute_result"
    }
   ],
   "source": [
    "# Anzeige der Ergebnisse in Tabellenform\n",
    "\n",
    "df_results = pd.DataFrame(results_method_mae, columns = ['Method', 'MAE'])\n",
    "\n",
    "# Show results of methods\n",
    "df_results"
   ]
  },
  {
   "cell_type": "code",
   "execution_count": 50,
   "metadata": {
    "pycharm": {
     "name": "#%%\n"
    }
   },
   "outputs": [
    {
     "data": {
      "text/plain": "<Figure size 432x288 with 1 Axes>",
      "image/png": "[encoded data removed]"
     },
     "metadata": {
      "needs_background": "light"
     },
     "output_type": "display_data"
    }
   ],
   "source": [
    "# Anzeige der Ergebnisse in Diagrammform\n",
    "\n",
    "import matplotlib.pyplot as plt\n",
    "\n",
    "# Visualize resuts of data frame\n",
    "\n",
    "fig = plt.figure()\n",
    "ax = fig.add_axes([0,0,4,4])\n",
    "\n",
    "ax.bar(df_results.Method,df_results.MAE)\n",
    "plt.show()"
   ]
  },
  {
   "cell_type": "code",
   "execution_count": 51,
   "metadata": {
    "pycharm": {
     "name": "#%%\n"
    }
   },
   "outputs": [
    {
     "data": {
      "text/plain": "<Figure size 432x288 with 1 Axes>",
      "image/png": "[encoded data removed]"
     },
     "metadata": {
      "needs_background": "light"
     },
     "output_type": "display_data"
    }
   ],
   "source": [
    "# Visualisierung der verteilung der cnt Werte über den gesamten Zeitraum\n",
    "\n",
    "x_plot = 'instant'\n",
    "\n",
    "train_contents.plot(x=x_plot, y='cnt', style='o')\n",
    "plt.title('Hours vs Percentage')\n",
    "plt.xlabel(x_plot)\n",
    "plt.ylabel('cnt')\n",
    "plt.show()\n"
   ]
  }
 ],
 "metadata": {
  "kernelspec": {
   "display_name": "Python 3 (ipykernel)",
   "language": "python",
   "name": "python3"
  },
  "language_info": {
   "codemirror_mode": {
    "name": "ipython",
    "version": 3
   },
   "file_extension": ".py",
   "mimetype": "text/x-python",
   "name": "python",
   "nbconvert_exporter": "python",
   "pygments_lexer": "ipython3",
   "version": "3.7.3"
  }
 },
 "nbformat": 4,
 "nbformat_minor": 1
}