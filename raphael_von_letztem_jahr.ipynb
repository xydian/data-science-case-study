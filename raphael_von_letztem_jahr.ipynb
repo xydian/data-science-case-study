{
 "cells": [
  {
   "cell_type": "code",
   "execution_count": 1,
   "metadata": {
    "collapsed": true
   },
   "outputs": [
    {
     "name": "stdout",
     "output_type": "stream",
     "text": [
      "   instant      dteday  season  yr  mnth  holiday  weekday  workingday  \\\n",
      "0      299  26.10.2011     4.0   0    10        0        3           1   \n",
      "1      458  02.04.2012     2.0   1     4        0        1           1   \n",
      "2      687  17.11.2012     4.0   1    11        0        6           0   \n",
      "4      291  18.10.2011     4.0   0    10        0        2           1   \n",
      "5       53  22.02.2011     1.0   0     2        0        2           1   \n",
      "\n",
      "   weathersit     temp     atemp        hum  windspeed  leaflets  \\\n",
      "0           2  19.3667  0.472846  108.06255   0.148642       605   \n",
      "1           1  17.3565  0.427513   75.65220   0.312139       518   \n",
      "2           1  13.0000  0.326383   81.81255   0.179729       766   \n",
      "4           2  21.3000  0.522721  105.25005   0.110087       463   \n",
      "5           1   7.2889  0.186033   86.66670   0.195683       516   \n",
      "\n",
      "   price reduction  casual  registered   cnt  \n",
      "0                0     404        3490  3894  \n",
      "1                0    1208        4728  5936  \n",
      "2                0    1313        4316  5629  \n",
      "4                0     637        4111  4748  \n",
      "5                0      74        1376  1450  \n"
     ]
    }
   ],
   "source": [
    "import pandas as pd\n",
    "from sklearn.linear_model import LinearRegression\n",
    "from sklearn.linear_model import LogisticRegression\n",
    "from sklearn.pipeline import make_pipeline\n",
    "from sklearn.preprocessing import StandardScaler\n",
    "from sklearn.linear_model import Ridge\n",
    "from sklearn.linear_model import RidgeCV\n",
    "from sklearn.linear_model import SGDRegressor\n",
    "from sklearn.linear_model import HuberRegressor\n",
    "from sklearn.linear_model import QuantileRegressor\n",
    "from sklearn.linear_model import RANSACRegressor\n",
    "from sklearn.linear_model import TheilSenRegressor\n",
    "from sklearn.linear_model import BayesianRidge\n",
    "from sklearn.linear_model import ElasticNet\n",
    "from sklearn.preprocessing import PolynomialFeatures\n",
    "import matplotlib.pyplot as plt\n",
    "\n",
    "test_dir=\"./case_data/BikeRentalDaily_test.csv\"\n",
    "train_dir=\"./case_data/clean_training_data.csv\"\n",
    "\n",
    "\n",
    "test_contents = pd.read_csv(test_dir, sep=';')\n",
    "test_contents = test_contents.dropna()\n",
    "\n",
    "\n",
    "train_contents = pd.read_csv(train_dir, sep=';')\n",
    "train_contents = train_contents.dropna()\n",
    "\n",
    "# This is used to store the mean absolute errors together with the calculation\n",
    "# algorithm in the form [method, mean_absolute_error]. Later in this section\n",
    "# this is used to generate a visual overview of the results\n",
    "results_method_mae = []\n",
    "\n",
    "\n",
    "feature_cols = [\"instant\",\"season\",\"yr\",\"mnth\",\"weathersit\",\"temp\",\"atemp\",\"hum\",\"windspeed\"]\n",
    "\n",
    "X = train_contents.loc[:, feature_cols]\n",
    "y = train_contents.cnt\n",
    "\n",
    "X_test = test_contents.loc[:, feature_cols]\n",
    "y_test = test_contents.cnt\n",
    "\n",
    "print(test_contents.head())\n",
    "# print(train_contents.head())\n"
   ]
  },
  {
   "cell_type": "code",
   "execution_count": 2,
   "metadata": {
    "collapsed": false,
    "pycharm": {
     "name": "#%% Linear Regression 68%\n"
    }
   },
   "outputs": [
    {
     "data": {
      "text/plain": "0.38482880912777917"
     },
     "execution_count": 2,
     "metadata": {},
     "output_type": "execute_result"
    }
   ],
   "source": [
    "\n",
    "\n",
    "linreg = LinearRegression()\n",
    "\n",
    "linreg.fit(X,y)\n",
    "\n",
    "\n",
    "pred = linreg.predict(X_test)\n",
    "\n",
    "linreg.score(X_test, y_test)"
   ]
  },
  {
   "cell_type": "code",
   "execution_count": 3,
   "outputs": [
    {
     "name": "stdout",
     "output_type": "stream",
     "text": [
      "MAE: 887.670\n"
     ]
    }
   ],
   "source": [
    "from sklearn.metrics import mean_absolute_error\n",
    "\n",
    "mae = mean_absolute_error(y_test, pred)\n",
    "print('MAE: %.3f' % mae)\n",
    "\n",
    "results_method_mae.append([\"linear regression\", mae])"
   ],
   "metadata": {
    "collapsed": false,
    "pycharm": {
     "name": "#%%\n"
    }
   }
  },
  {
   "cell_type": "code",
   "execution_count": 4,
   "metadata": {
    "collapsed": false,
    "pycharm": {
     "name": "#%% Huber Regression 62%\n"
    }
   },
   "outputs": [
    {
     "name": "stdout",
     "output_type": "stream",
     "text": [
      "MAE: 855.780\n"
     ]
    },
    {
     "data": {
      "text/plain": "0.3923970510159551"
     },
     "execution_count": 4,
     "metadata": {},
     "output_type": "execute_result"
    }
   ],
   "source": [
    "\n",
    "pipe = make_pipeline(StandardScaler(), HuberRegressor())\n",
    "\n",
    "pipe.fit(X,y)\n",
    "\n",
    "\n",
    "pred = pipe.predict(X_test)\n",
    "\n",
    "mae = mean_absolute_error(y_test, pred)\n",
    "print('MAE: %.3f' % mae)\n",
    "\n",
    "results_method_mae.append([\"Huber Regressor\", mae])\n",
    "\n",
    "pipe.score(X_test, y_test)"
   ]
  },
  {
   "cell_type": "code",
   "execution_count": 5,
   "outputs": [
    {
     "name": "stdout",
     "output_type": "stream",
     "text": [
      "MAE: 393.258\n",
      "MAE: 625.733\n"
     ]
    },
    {
     "data": {
      "text/plain": "0.05874835944622958"
     },
     "execution_count": 5,
     "metadata": {},
     "output_type": "execute_result"
    }
   ],
   "source": [
    "\n",
    "degree=4\n",
    "\n",
    "polyreg=make_pipeline(PolynomialFeatures(degree),LinearRegression())\n",
    "polyreg.fit(X,y)\n",
    "\n",
    "\n",
    "pred = polyreg.predict(X_test)\n",
    "\n",
    "mae = mean_absolute_error(y_test, pred)\n",
    "print('MAE: %.3f' % mae)\n",
    "\n",
    "results_method_mae.append([\"polynominal regression degree=4\", mae])\n",
    "\n",
    "polyreg.score(X_test, y_test)\n",
    "\n",
    "\n",
    "\n",
    "degree=3\n",
    "\n",
    "polyreg=make_pipeline(PolynomialFeatures(degree),LinearRegression())\n",
    "polyreg.fit(X,y)\n",
    "\n",
    "\n",
    "pred = polyreg.predict(X_test)\n",
    "\n",
    "mae = mean_absolute_error(y_test, pred)\n",
    "print('MAE: %.3f' % mae)\n",
    "\n",
    "results_method_mae.append([\"polynominal regression degree=3\", mae])\n",
    "\n",
    "polyreg.score(X_test, y_test)"
   ],
   "metadata": {
    "collapsed": false,
    "pycharm": {
     "name": "#%% Polynomial Regression 75%\n"
    }
   }
  },
  {
   "cell_type": "code",
   "execution_count": 6,
   "outputs": [
    {
     "name": "stdout",
     "output_type": "stream",
     "text": [
      "MAE: 1009.264\n",
      "MAE: 319.217\n"
     ]
    },
    {
     "data": {
      "text/plain": "0.47782106469363406"
     },
     "execution_count": 6,
     "metadata": {},
     "output_type": "execute_result"
    }
   ],
   "source": [
    "from sklearn.neighbors import KNeighborsRegressor\n",
    "\n",
    "\n",
    "#Initialize and fit KNN regression\n",
    "KNN_reg = KNeighborsRegressor(n_neighbors=20)\n",
    "KNN_reg.fit(X, y)\n",
    "\n",
    "#Predict all test examples\n",
    "ypred = KNN_reg.predict(X_test)\n",
    "\n",
    "mae = mean_absolute_error(y_test, ypred)\n",
    "print('MAE: %.3f' % mae)\n",
    "\n",
    "results_method_mae.append([\"KNN n_neighbors=20\", mae])\n",
    "KNN_reg.score(X_test, y_test)\n",
    "\n",
    "\n",
    "\n",
    "#Initialize and fit KNN regression\n",
    "KNN_reg = KNeighborsRegressor(n_neighbors=1)\n",
    "KNN_reg.fit(X, y)\n",
    "\n",
    "#Predict all test examples\n",
    "ypred = KNN_reg.predict(X_test)\n",
    "\n",
    "mae = mean_absolute_error(y_test, ypred)\n",
    "print('MAE: %.3f' % mae)\n",
    "\n",
    "results_method_mae.append([\"KNN n_neighbors=1\", mae])\n",
    "KNN_reg.score(X_test, y_test)"
   ],
   "metadata": {
    "collapsed": false,
    "pycharm": {
     "name": "#%%\n"
    }
   }
  },
  {
   "cell_type": "code",
   "execution_count": 7,
   "metadata": {
    "collapsed": false,
    "pycharm": {
     "name": "#%%\n"
    }
   },
   "outputs": [
    {
     "name": "stdout",
     "output_type": "stream",
     "text": [
      "MAE: 329.365\n",
      "MAE: 349.513\n"
     ]
    },
    {
     "data": {
      "text/plain": "0.8608695652173913"
     },
     "execution_count": 7,
     "metadata": {},
     "output_type": "execute_result"
    }
   ],
   "source": [
    "\n",
    "from sklearn.pipeline import Pipeline\n",
    "from sklearn.svm import SVC\n",
    "clf = make_pipeline(StandardScaler(), SVC(gamma='auto', kernel='poly', degree=1))\n",
    "clf.fit(X, y)\n",
    "Pipeline(steps=[('standardscaler', StandardScaler()),\n",
    "                ('svc', SVC(gamma='auto'))])\n",
    "\n",
    "ypred = clf.predict(X_test)\n",
    "mae = mean_absolute_error(y_test, ypred)\n",
    "print('MAE: %.3f' % mae)\n",
    "\n",
    "results_method_mae.append([\"Support Vector Classification degree=1\", mae])\n",
    "clf.score(X_test, y_test)\n",
    "\n",
    "\n",
    "clf = make_pipeline(StandardScaler(), SVC(gamma='auto', kernel='poly', degree=2))\n",
    "clf.fit(X, y)\n",
    "Pipeline(steps=[('standardscaler', StandardScaler()),\n",
    "                ('svc', SVC(gamma='auto'))])\n",
    "\n",
    "ypred = clf.predict(X_test)\n",
    "mae = mean_absolute_error(y_test, ypred)\n",
    "print('MAE: %.3f' % mae)\n",
    "\n",
    "results_method_mae.append([\"Support Vector Classification degree=2\", mae])\n",
    "clf.score(X_test, y_test)"
   ]
  },
  {
   "cell_type": "code",
   "execution_count": 8,
   "outputs": [
    {
     "data": {
      "text/plain": "                                   Method          MAE\n0                       linear regression   887.669590\n1                         Huber Regressor   855.779866\n2         polynominal regression degree=4   393.257799\n3         polynominal regression degree=3   625.733193\n4                      KNN n_neighbors=20  1009.263913\n5                       KNN n_neighbors=1   319.217391\n6  Support Vector Classification degree=1   329.365217\n7  Support Vector Classification degree=2   349.513043",
      "text/html": "<div>\n<style scoped>\n    .dataframe tbody tr th:only-of-type {\n        vertical-align: middle;\n    }\n\n    .dataframe tbody tr th {\n        vertical-align: top;\n    }\n\n    .dataframe thead th {\n        text-align: right;\n    }\n</style>\n<table border=\"1\" class=\"dataframe\">\n  <thead>\n    <tr style=\"text-align: right;\">\n      <th></th>\n      <th>Method</th>\n      <th>MAE</th>\n    </tr>\n  </thead>\n  <tbody>\n    <tr>\n      <th>0</th>\n      <td>linear regression</td>\n      <td>887.669590</td>\n    </tr>\n    <tr>\n      <th>1</th>\n      <td>Huber Regressor</td>\n      <td>855.779866</td>\n    </tr>\n    <tr>\n      <th>2</th>\n      <td>polynominal regression degree=4</td>\n      <td>393.257799</td>\n    </tr>\n    <tr>\n      <th>3</th>\n      <td>polynominal regression degree=3</td>\n      <td>625.733193</td>\n    </tr>\n    <tr>\n      <th>4</th>\n      <td>KNN n_neighbors=20</td>\n      <td>1009.263913</td>\n    </tr>\n    <tr>\n      <th>5</th>\n      <td>KNN n_neighbors=1</td>\n      <td>319.217391</td>\n    </tr>\n    <tr>\n      <th>6</th>\n      <td>Support Vector Classification degree=1</td>\n      <td>329.365217</td>\n    </tr>\n    <tr>\n      <th>7</th>\n      <td>Support Vector Classification degree=2</td>\n      <td>349.513043</td>\n    </tr>\n  </tbody>\n</table>\n</div>"
     },
     "execution_count": 8,
     "metadata": {},
     "output_type": "execute_result"
    }
   ],
   "source": [
    "df_results = pd.DataFrame(results_method_mae, columns = ['Method', 'MAE'])\n",
    "\n",
    "# Show results of methods\n",
    "df_results"
   ],
   "metadata": {
    "collapsed": false,
    "pycharm": {
     "name": "#%%\n"
    }
   }
  },
  {
   "cell_type": "code",
   "execution_count": 11,
   "outputs": [
    {
     "data": {
      "text/plain": "<Figure size 432x288 with 1 Axes>",
      "image/png": "[encoded data removed]"
     },
     "metadata": {
      "needs_background": "light"
     },
     "output_type": "display_data"
    }
   ],
   "source": [
    "import matplotlib.pyplot as plt\n",
    "\n",
    "# Visualize resuts of data frame\n",
    "\n",
    "fig = plt.figure()\n",
    "ax = fig.add_axes([0,0,3,3])\n",
    "\n",
    "ax.bar(df_results.Method,df_results.MAE)\n",
    "plt.show()"
   ],
   "metadata": {
    "collapsed": false,
    "pycharm": {
     "name": "#%%\n"
    }
   }
  },
  {
   "cell_type": "code",
   "execution_count": 10,
   "metadata": {
    "collapsed": false,
    "pycharm": {
     "name": "#%%\n"
    }
   },
   "outputs": [
    {
     "data": {
      "text/plain": "<Figure size 432x288 with 1 Axes>",
      "image/png": "[encoded data removed]"
     },
     "metadata": {
      "needs_background": "light"
     },
     "output_type": "display_data"
    }
   ],
   "source": [
    "x_plot = 'instant'\n",
    "\n",
    "train_contents.plot(x=x_plot, y='cnt', style='o')\n",
    "plt.title('Hours vs Percentage')\n",
    "plt.xlabel(x_plot)\n",
    "plt.ylabel('cnt')\n",
    "plt.show()\n"
   ]
  }
 ],
 "metadata": {
  "kernelspec": {
   "display_name": "Python 3",
   "language": "python",
   "name": "python3"
  },
  "language_info": {
   "codemirror_mode": {
    "name": "ipython",
    "version": 3
   },
   "file_extension": ".py",
   "mimetype": "text/x-python",
   "name": "python",
   "nbconvert_exporter": "python",
   "pygments_lexer": "ipython3",
   "version": "3.9.9"
  }
 },
 "nbformat": 4,
 "nbformat_minor": 0
}