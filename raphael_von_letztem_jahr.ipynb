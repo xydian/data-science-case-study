{
 "cells": [
  {
   "cell_type": "code",
   "execution_count": 41,
   "metadata": {
    "collapsed": true
   },
   "outputs": [
    {
     "name": "stdout",
     "output_type": "stream",
     "text": [
      "   instant  season  yr  mnth  holiday  weekday  workingday  weathersit  \\\n",
      "0      154     2.0   0     6        0        5           1           1   \n",
      "1      685     4.0   1    11        0        4           1           2   \n",
      "2      368     1.0   1     1        0        2           1           1   \n",
      "3      472     2.0   1     4        1        1           0           1   \n",
      "4      442     1.0   1     3        0       -1           0           2   \n",
      "\n",
      "      temp     atemp        hum  windspeed  leaflets  price reduction   cnt  \n",
      "0  24.8000  0.587133   53.12505   0.253121       991                0  5312  \n",
      "1  12.8667  0.324492   93.06255   0.152987       601                0  5445  \n",
      "2   6.0000  0.126275   66.18750   0.365671       549                0  2236  \n",
      "3  26.5667  0.614925   84.25005   0.284829       740                0  6370  \n",
      "4  20.5667  0.505046  113.37495   0.110704       773                1  7836  \n"
     ]
    }
   ],
   "source": [
    "import pandas as pd\n",
    "from sklearn.linear_model import LinearRegression\n",
    "from sklearn.linear_model import LogisticRegression\n",
    "from sklearn.pipeline import make_pipeline\n",
    "from sklearn.preprocessing import StandardScaler\n",
    "from sklearn.linear_model import Ridge\n",
    "from sklearn.linear_model import RidgeCV\n",
    "from sklearn.linear_model import SGDRegressor\n",
    "from sklearn.linear_model import HuberRegressor\n",
    "from sklearn.linear_model import QuantileRegressor\n",
    "from sklearn.linear_model import RANSACRegressor\n",
    "from sklearn.linear_model import TheilSenRegressor\n",
    "from sklearn.linear_model import BayesianRidge\n",
    "from sklearn.linear_model import ElasticNet\n",
    "from sklearn.preprocessing import PolynomialFeatures\n",
    "import matplotlib.pyplot as plt\n",
    "\n",
    "test_dir=\"./case_data/BikeRentalDaily_test.csv\"\n",
    "train_dir=\"./case_data/clean_training_data.csv\"\n",
    "\n",
    "\n",
    "test_contents = pd.read_csv(test_dir, sep=';')\n",
    "\n",
    "\n",
    "train_contents = pd.read_csv(train_dir, sep=';')\n",
    "\n",
    "print(train_contents.head())\n",
    "# print(test_contents.head())\n"
   ]
  },
  {
   "cell_type": "code",
   "execution_count": 42,
   "metadata": {
    "collapsed": false,
    "pycharm": {
     "name": "#%% Linear Regression 68%\n"
    }
   },
   "outputs": [
    {
     "data": {
      "text/plain": "0.07632651757191611"
     },
     "execution_count": 42,
     "metadata": {},
     "output_type": "execute_result"
    }
   ],
   "source": [
    "feature_cols = [\"temp\", \"atemp\", \"instant\"]\n",
    "\n",
    "X = train_contents.loc[:, feature_cols]\n",
    "y = train_contents.cnt\n",
    "\n",
    "\n",
    "linreg = LinearRegression()\n",
    "\n",
    "linreg.fit(X,y)\n",
    "\n",
    "X_test = test_contents.loc[:, feature_cols]\n",
    "y_test = test_contents.registered\n",
    "\n",
    "pred = linreg.predict(X_test)\n",
    "\n",
    "linreg.score(X_test, y_test)"
   ]
  },
  {
   "cell_type": "code",
   "execution_count": 43,
   "metadata": {
    "collapsed": false,
    "pycharm": {
     "name": "#%% Huber Regression 62%\n"
    }
   },
   "outputs": [
    {
     "data": {
      "text/plain": "0.2769750606733862"
     },
     "execution_count": 43,
     "metadata": {},
     "output_type": "execute_result"
    }
   ],
   "source": [
    "feature_cols = [\"temp\", \"atemp\", \"instant\"]\n",
    "\n",
    "X = train_contents.loc[:, feature_cols]\n",
    "y = train_contents.cnt\n",
    "pipe = make_pipeline(StandardScaler(), HuberRegressor())\n",
    "\n",
    "pipe.fit(X,y)\n",
    "\n",
    "X_test = test_contents.loc[:, feature_cols]\n",
    "y_test = test_contents.registered\n",
    "\n",
    "# pred = pipe.predict(X_test)\n",
    "\n",
    "pipe.score(X_test, y_test)"
   ]
  },
  {
   "cell_type": "code",
   "execution_count": 44,
   "metadata": {
    "collapsed": false,
    "pycharm": {
     "name": "#%% Polynomial Regression 75%\n"
    }
   },
   "outputs": [
    {
     "data": {
      "text/plain": "0.13802945204933148"
     },
     "execution_count": 44,
     "metadata": {},
     "output_type": "execute_result"
    }
   ],
   "source": [
    "feature_cols = [\"temp\", \"atemp\", \"instant\"]\n",
    "\n",
    "X = train_contents.loc[:, feature_cols]\n",
    "y = train_contents.cnt\n",
    "\n",
    "degree=3\n",
    "\n",
    "polyreg=make_pipeline(PolynomialFeatures(degree),LinearRegression())\n",
    "polyreg.fit(X,y)\n",
    "\n",
    "X_test = test_contents.loc[:, feature_cols]\n",
    "y_test = test_contents.registered\n",
    "\n",
    "polyreg.score(X_test, y_test)"
   ]
  },
  {
   "cell_type": "code",
   "execution_count": 44,
   "metadata": {
    "collapsed": false,
    "pycharm": {
     "name": "#%%\n"
    }
   },
   "outputs": [],
   "source": []
  },
  {
   "cell_type": "code",
   "execution_count": 45,
   "metadata": {
    "collapsed": false,
    "pycharm": {
     "name": "#%%\n"
    }
   },
   "outputs": [
    {
     "data": {
      "text/plain": "<Figure size 432x288 with 1 Axes>",
      "image/png": "[encoded data removed]"
     },
     "metadata": {
      "needs_background": "light"
     },
     "output_type": "display_data"
    }
   ],
   "source": [
    "x_plot = 'instant'\n",
    "\n",
    "train_contents.plot(x=x_plot, y='cnt', style='o')\n",
    "plt.title('Hours vs Percentage')\n",
    "plt.xlabel(x_plot)\n",
    "plt.ylabel('casual')\n",
    "plt.show()"
   ]
  }
 ],
 "metadata": {
  "kernelspec": {
   "display_name": "Python 3",
   "language": "python",
   "name": "python3"
  },
  "language_info": {
   "codemirror_mode": {
    "name": "ipython",
    "version": 3
   },
   "file_extension": ".py",
   "mimetype": "text/x-python",
   "name": "python",
   "nbconvert_exporter": "python",
   "pygments_lexer": "ipython3",
   "version": "3.9.9"
  }
 },
 "nbformat": 4,
 "nbformat_minor": 0
}